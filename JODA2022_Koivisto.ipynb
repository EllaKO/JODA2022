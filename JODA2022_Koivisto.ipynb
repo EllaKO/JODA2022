{
 "cells": [
  {
   "cell_type": "markdown",
   "id": "3287d2ad",
   "metadata": {},
   "source": [
    "# JODA 2022: Oppimispäiväkirja"
   ]
  },
  {
   "cell_type": "markdown",
   "id": "c853c7c9",
   "metadata": {},
   "source": [
    "Ella Koivisto"
   ]
  },
  {
   "cell_type": "markdown",
   "id": "ef779aa3",
   "metadata": {},
   "source": [
    "K444390"
   ]
  },
  {
   "cell_type": "markdown",
   "id": "43a75425",
   "metadata": {},
   "source": [
    "ella.koivisto@tuni.fi"
   ]
  },
  {
   "cell_type": "markdown",
   "id": "2b4ece99",
   "metadata": {},
   "source": [
    "## Viikko 1: Keskeiset oppimistavoitteet kurssilla"
   ]
  },
  {
   "cell_type": "markdown",
   "id": "c01fc05e",
   "metadata": {},
   "source": [
    "TIJO.222 -opintojakso on minulle ensimmäinen todellinen datankäsittelyyn liittyvä kurssi. Opiskelen toista vuotta tietojenkäsittelytiedettä, ja vaikka ohjelmointi sekä tietotekniikka on muuten ollut suuressa huomiossa tähän mennessä opiskelemillani kursseilla, en ole vielä ehinyt osallistumaan tämän opintojakson aihepiirin kursseille. Minulla on kokemusta Big Data Analysis -opintojaksolta, jossa dataa hieman käsiteltiin esimerkiksi R-ohjelmointikielen avulla. Koska tämän opintojakson aihepiiri on minulle melko uusi, odotan mielelläni kurssin etenemistä sekä uusia oppimiani taitoja. Kurssilla käytetyt ohjelmistot sekä ohjelmointikielet erityisesti ovat itselle melko tuttuja ennestään, mutta kurssin aikana pääsee tarkemmin syventymään näiden toimintaan esimerkiksi harjoitustyön kautta. "
   ]
  },
  {
   "cell_type": "markdown",
   "id": "5117d275",
   "metadata": {},
   "source": [
    "Aihepiiriltään koen kurssin erittäin hyödylliseksi sekä tärkeäksi, sillä datatieteen ymmärrystä sekä osaajia tarvitaan nykyään yhä enemmän erilaisissa työtehtävissä ympäri maailman. Jo pelkästään tällä hetkellä (11.03.2022), hakusanalla ”data-analyytikko” on Oikotie-työnhakusivustolla tarjolla lähes 800 työpaikkaa (Oikotie, 2022). Tässä tulee tietenkin ottaa huomioon se, että erilaiset yritykset tai tahot saattavat määritellä datatieteen eri tavoin, jolloin myös tarjotut työnkuvat saattavat poiketa toisistaan melko paljon. Data-analytiikka on usein määritelty datatieteen tarkempana alaluokkana, jossa keskitytään enemmän datan tarkasteluun erilaisissa konteksteissa, kun taas datatiede keskittyy usein koneoppimiseen sekä esimerkiksi datan erilaiseen mallintamiseen (Springboard India, 2019). Tästä huolimatta on helppo nähdä, että datatiede on erittäin tärkeä sekä merkittävä ala nyky-yhteiskunnassa. Teknologian kehittyessä sekä digitalisaation edistyessä datatieteen osaajia tullaan tarvitsemaan erilaatuisissa tehtävissä lähes jokaisessa organisaatiossa.  \n",
    "\n",
    "Datatieteen hyödyllisyyden lisäksi koen aiheen myös henkilökohtaisesti kiinnostavana. Datan käsittely eri tavoilla sekä erityisesti datan jalostaminen visuaalisesti ymmärrettävään muotoon on mielestäni mielenkiintoista.  "
   ]
  },
  {
   "cell_type": "markdown",
   "id": "c358b84f",
   "metadata": {},
   "source": [
    "Suurimpana tavoitteena opintojakson aikana pyrin tutustumaan datatieteeseen siten, että voin myös ehkä tulevaisuudessa syventää opintojani aiheesta siten, että voin myös työelämässä työskennellä datankäsittelyn parissa. Haluan tutustua käytettyihin ohjelmistoihin kunnolla ja erityisesti tutustua ja opetella käyttämään Pandas-kirjastoa Python-ohjelmointikielen kanssa. Koska aiempaa kokemusta tämän kirjaston käytöstä minulla ei ole, uskon oppimisen vaativan melko paljon työtä. Toisaalta koen myös kaiken kurssilla opitun erittäin hyödylliseksi varsinkin tulevaisuutta ajatellen. \n",
    "\n",
    " "
   ]
  },
  {
   "cell_type": "markdown",
   "id": "9b81000f",
   "metadata": {},
   "source": [
    "Kurssin aikana pyrin myös oppimaan erilaisia datan käsittelyn vaatimia vaiheita sekä erilaisia tekniikoita niiden tekemiseen. On mielenkiintoista oppia harjoitustyön kautta konkreettisesti niitä vaiheita, joita todellisessa datatieteen projektissa voisi olla mukana. Erityisesti tavoitteenani on panostaa harjoitustyöhön riittävästi oman tavoitetasoni mukaan. Pyrin tekemään harjoitustyön mahdollisimman hyvin oman osaamiseni puitteissa siten, että voin olla tekemääni työhön tyytyväinen. Kurssilla käytetty Python-ohjelmointikieli on tuttu esimerkiksi Ohjelmointi 1 -opintojaksolta, joten tämän kurssin myötä tavoitteenani on oppia lisää käyttötapoja kyseiselle opintojaksolle sekä syventää aiempaa osaamistani.  "
   ]
  },
  {
   "cell_type": "markdown",
   "id": "f9458270",
   "metadata": {},
   "source": [
    "Viimeisenä tärkeänä tavoitteena minulla on itselleni oppimispäiväkirjan kirjoittamisessa kehittyminen. Koen oppimispäiväkirjan tehtävänä melko vaikeaksi, eikä minulla ole paljoa kokemusta oppimispäiväkirjojen tekemisestä. Olen koko opiskeluaikanani kirjoittanut tähän mennessä vain kaksi oppimispäiväkirjaa, joten tämän kurssin myötä toivon myös kehittäväni taitoja tällaisen tehtävän kirjoittamisessa. Koen oppimiskirjamaisen osaamisen reflektoinnin toimivan erittäin hyvin opiskelun tukena, joten haluan myös oppia rakentamaan hyvän oppimispäiväkirjan, joka tukee minua itseä opintojakson aikana.  "
   ]
  },
  {
   "cell_type": "markdown",
   "id": "4a5d439f",
   "metadata": {},
   "source": [
    "Lähteet: \n",
    "\n",
    " \n",
    "\n",
    "Oikotie-työpaikat, data-analyytikko: \n",
    "\n",
    "https://tyopaikat.oikotie.fi/tyopaikat?hakusana=data-analyytikko \n",
    "\n",
    " \n",
    "\n",
    "Springboard India. 12.8.2019. Data Science vs Data Analytics — How to decide which one is right for you?. Medium.  \n",
    "\n",
    "https://medium.com/@springboard_ind/data-science-vs-data-analytics-how-to-decide-which-one-is-right-for-you-41e7bdec080e "
   ]
  },
  {
   "cell_type": "markdown",
   "id": "99d1d012",
   "metadata": {},
   "source": [
    "***"
   ]
  },
  {
   "cell_type": "markdown",
   "id": "81b4d1b5",
   "metadata": {},
   "source": [
    "## Viikko 2: Datan kerääminen ja jalostaminen "
   ]
  },
  {
   "cell_type": "markdown",
   "id": "8c8348d5",
   "metadata": {},
   "source": [
    "Kurssin toisen viikon opintokerralla tutustutaan tarkemmin datan keräämiseen, erilaisten työkalujen hyödyntämiseen data keräämisessä sekä datan siivoukseen ja jalostamiseen. Opetusmateriaalit katsoin tallenteelta Panopto-palvelun kautta, sillä omaan aikatauluun live-tapaamiseen osallistuminen ei aina sovi. Ehkä itselle merkittävimpinä teemoina luentoviikolta mieleen jäivät ryömijät sekä raapijat ja niihin liittyvä pohdinta esimerkiksi laillisuudesta sekä eettisyydestä, sekä huomiot datan jalostamisen sekä datan käsittelyn kokonaisuuden vaatimista resursseista. Luennolla esitellään myös datan nelikenttä, joka sisältää datan keräämisen jaon neljään erilaiseen teemaan. Näistä esille tuodaan ennakoivaa analytiikkaa, josta itselle uutena esimerkkinä ilmenee some-datan kerääminen. Mieleen painui myös datan laadukkuus sekä esille tuotu asettelu siitä, että datan määrä ei välttämättä korvaa sen laatua. Tämä toimii keskeisenä teemana liittyen koko luentoviikon aiheeseen datan keräämisestä. Viikon opiskelumateriaaliksi on jaettu myös Harvard Business Review:n julkaisema artikkeli Data Science and the Art of Persuasion (Scott Berinato, 2019). Artikkelissa tarkastellaan organisaatioiden työskentelyrakennetta datan käsittelyssä. Esille tuodaan huomio siitä, kuinka usein organisaatiot eivät ole tyytyväisiä lopputulemaan, vaikka datan käsittelyyn sekä esimerkiksi erilaisiin osaajiin on investoitu suuria määriä resursseja. Artikkelissa esitellään keinoja miksi, ja miten organisaatiot voivat tehostaa sekä datan käsittelyä että erityisesti ymmärrystä siitä, kuinka sitä voidaan hyödyntää organisaation toiminnassa. "
   ]
  },
  {
   "cell_type": "markdown",
   "id": "d578ccff",
   "metadata": {},
   "source": [
    "### Oivalluksia ja opittuja asioita tältä viikolta"
   ]
  },
  {
   "cell_type": "markdown",
   "id": "d991afb9",
   "metadata": {},
   "source": [
    "1. Ryömijöiden sekä raapijoiden käsitteellinen ymmärrys sekä toiminnan sisäistäminen. Asiat ovat uusia, enkä ole aikaisemmin tutustunut aiheeseen. Erityisesti ryömijöiden sekä raapijoiden käytön eettisyys ja laillisuus oli mielenkiintoinen aihe luennolla. Kyseiset toimijat kuuluvat lainmukaisuudessa tietynlaiselle harmaalle alueelle, ja erityisesti etiikan kannalta käyttöä tulisi tutkia tarkasti.  \n",
    "\n",
    "2. Artikkelissa Data Science and the Art of Persuasion esille noussut työskentelytaktiikka, jossa kartoitetaan osallistujien osaamista sekä projektin vaatimuksia, on mielenkiintoinen, mutta toimiva lähestymistapa ryhmätyöskentelyyn. Ehkä tällaista lähestymistapaa voisi pyrkiä hyödyntämään myös esimerkiksi opiskelussa vastaan tulevissa harjoitustöissä. \n",
    "\n",
    "3. Big datan suurtrendi on siirtynyt pois, ja tilalle on muodostunut pyrkimys mahdollisimman laadukkaaseen dataan. Big data analyysi perustui enemmän siihen, että kerättiin mahdollisimman paljon dataa aiheesta, kun taas tämänhetkinen smart data -trendi perustuu siihen, että pyritään hankkimaan mahdollisimman laadukasta dataa. Pohdintana tästä, että toisaalta suurella datamäärällä voi jossakin tilanteessa saada parempia tuloksia, mutta tälläisen datamäärän kanssa myös resursseja kuluu enemmän ja työmäärä datan siistimiseen on huomattavan suuri. Smart data voisi olla toimiva vaihtoehto silloin, kun analyysiprosessia halutaan toteuttaa tehokkaammin. \n",
    "\n",
    "4. Datankäsittelyyn käytetyistä resursseista keskusteltiin luennolla myös organisaatioiden yleisellä tasolla. Ns. 80/20 sääntö tuli esille luennon aikana. Tässä on kyse siitä, että datan jalostamisessa 80 % ajasta yleensä kuluu datan keräämiseen sekä siistimiseen, kun taas vain 20 % ajasta kuluu datan todelliseen analysointiin sekä siitä raportoimiseen. Tämä on mielenkiintoinen jako, mutta toisaalta omasta mielestä se tuntuu täysin loogiselta.  \n",
    "\n",
    "5. Sosiaalisen median keskutelupalstan viestimäärä ennakoivana analytiikan esimerkkinä on mielenkiintoinen. Kauppalehti on luentomateriaaleissa esiin tuodussa artikkelissa Some-keskustelut ennakoivat menekin kasvua (Alkula, 2019) kertonut Helsingin yliopiston suorittamasta tutkimuksesta, jossa some-viestien määrä koskien veganismia on ennustanut kasvismaitotuotteiden myynnin nousua. Mielenkiintoista, kuinka toisaalta myös tällä tavalla voidaan suorittaa data-analyysia. Usein ainakin itse olen yhdistänyt datan analysoinnin ns. perinteiseen dataan, joka rakentuu riveistä numeroita tai muuta vastaavaa dataa. Sosiaalisen median datan hyödyntäminen nykyaikana on todennäköisesti myös erittäin merkittävä tapa tuottaa analyysia. "
   ]
  },
  {
   "cell_type": "markdown",
   "id": "7019f224",
   "metadata": {},
   "source": [
    "### Kehitysideoita luentoviikolle"
   ]
  },
  {
   "cell_type": "markdown",
   "id": "67a54b55",
   "metadata": {},
   "source": [
    "* Luentomateriaali voisi olla hieman yhtenäisempää. Joissakin kohdissa tuntuu, että asia hyppää turhan nopeasti eteenpäin. Tätä voisi toisaalta auttaa myös selkeämpi otsikointi sekä selkeämmät rajat materiaalissa, jotka erottaisivat asiat toisistaan. Erityisesti tämän luentoviikon materiaalin loppuosa, jossa on koodia, tuntuu itselleni hieman epäselvältä seurata. "
   ]
  },
  {
   "cell_type": "markdown",
   "id": "f27a1b06",
   "metadata": {},
   "source": [
    "***"
   ]
  },
  {
   "cell_type": "markdown",
   "id": "d4f6e8ef",
   "metadata": {},
   "source": [
    "## Viikko 3: Koneoppiminen"
   ]
  },
  {
   "cell_type": "markdown",
   "id": "e50837f6",
   "metadata": {},
   "source": [
    "Koneoppiminen sekä sen erilaiset sovellukset ovat opintojakson kolmannen luentoviikon pääaiheena. Luennolla syvennytään myös piirteisiin sekä esitellään erilaisia esimerkkejä niiden käytöstä. Aikaisempaan verrattuna luento on melko käytännönläheinen, sillä materiaalissa esitetään asioita enemmän konkreettisten esimerkkien kautta. Luennon esimateriaalina on verkkoartikkeli ” Näin laadullinen tieto jalostuu laskennalliseksi: piirteet sosiaalisen median analytiikassa” (Huhtamäki & Laaksonen, 2017). Artikkelissa käsitellään piirteitä erityisesti sosiaalisen median analytiikan kautta. Tekstissä kuvaillaan myös selkeästi erilaisia hyötyjä, joita piirteiden tunnistamisesta voidaan saavuttaa. Artikkeli toimii hyvin tukevana tietona luennolla käytyyn teoriaan. Piirteet tulevat minulle itselleni täysin uutena tietona, enkä ole oikeastaan aikaisemmin pohtinutkaan aihetta tarkemmin. Asia kuitenkin tuntuu erittäin loogiselta, ja ajavat omasta mielestäni erittäin tärkeää ja merkittävääkin roolia analytiikassa. Erityisesti esille tuotu esimerkki tekstistä luodusta analyysistä, jonka perusteella voidaan selvittää sen sävyä, on mielenkiintoinen.  \n",
    "\n",
    "Luennolla piirteet yhdistetään koneoppimiseen erilaisten esiteltyjen prosessien kautta. Nämä prosessit ovat osana sitä kokonaisuutta, jossa lähtödata muutetaan muotoon, joka sisältää koneoppimisen kannalta hyödyllisiä ominaisuuksia. Luennolla esiteltyjä tällaisia prosesseja ovat esimerkiksi standardointi sekä kohinan poisto. Koneoppiminen käsitteenä tuntuu itselleni hieman haastavalta, johtuen todennäköisesti aiheen vieraudesta. Vaikka asiaa on käsitelty aikaisemmin ja olen hieman aiheeseen tutustunut, se tuntuu silti vieraalta ja jollakin tapaa tuntemattomalta aihepiiriltä.  "
   ]
  },
  {
   "cell_type": "markdown",
   "id": "1344e1b6",
   "metadata": {},
   "source": [
    "### Oivalluksia ja opittuja asioita tältä viikolta"
   ]
  },
  {
   "cell_type": "markdown",
   "id": "65e4abd3",
   "metadata": {},
   "source": [
    "1. Piirteiden käyttö sosiaalisessa mediassa tuli itselleni hieman jopa yllätyksenä. Jostakin syystä niiden käyttöä ei ole kunnolla tiedostanut ennen opintokertaa, mutta niistä opittuani ymmärrän täysin käyttötarkoituksen sekä tarpeen niiden käytölle. Niinkin pienestä asiasta, kuin henkilön kirjoittamasta twiitistä, voidaan saada yllättävän syvällisiäkin asioita selville. Tästä on annettu esimerkki esilukemistona olleessa artikkelissa, jossa Sauli Niinistön twiitistä on osattu SentiStrength-sentimenttianalyysikirjaston avulla arvioida sen sävy. Tämän myötä oivalsin sen, kuinka tärkeä sosiaalinen media saattaa todellisuudessa olla esimerkiksi yrityksen markkinoinnille. Erilaiset sosiaalisen median kautta saadut analyysitulokset vaikuttavat varmasti erilaisiin markkinointistrategioihin. Esimerkiksi käytettyjen tagien määrä tai luentomateriaalissa annettu esimerkkianalyysi tuotearviossa käytetyistä sanoista on toimiva tapa kerätä tietoa siitä, mistä ja millä tavalla ihmiset keskustelevat. \n",
    "\n",
    "2. Tekoälyn käyttö ei aina välttämättä tarkoita suurta menestystä yritykselle. Olen usein kuullut puhuttavan, ja myös joskus itsekin ajatellut niin, että tekoäly on jokin suuri toiminto, jolla yrityksen toiminta muuttuu heti kannattavaksi. Luennolla tehty viittaus: ” Kun sata yritystä kokeilee tekoälyä, ehkä vain kymmenen löytää kannattavan liiketoimintamallin.” (Volker Tresp). Ehkä syynä uskomukseen on puutteellinen tietämys tai ymmärrys tekoälyn toiminnasta. Tekoäly ei kuitenkaan ole voima, joka pelastaa yrityksen, vaan enemmänkin hyvä lisä jo hyvin toimivan yrityksen perustan päälle. \n",
    "\n",
    "3. Koneoppiminen on jaettu erilaisten algoritmien periaatteiden perusteella tyyppeihin. Koska osaamiseni koneoppimiseen liittyen on melko vähäistä, tuli tyyppijako opittua vasta nyt luentokerran myötä. Materiaaleissa esitellään kaavio, jossa koneoppiminen on jaettu neljään osioon: ohjattu sekä ohjaamaton oppiminen, puoliksi ohjattu oppiminen sekä vahvistusoppiminen. Näitä luokituksia käsitellään myös luentomateriaalista löytyvässä artikkelissa ”Types of machine learning algorithms” (proft.me, 2015). Näistä mieleenpainuvin on vahvistusoppiminen, jossa algoritmi melkeinpä opettaa itse itseään. Vahvistusoppimisessa algoritmi iteratiivisesti oppii erilaisia tilanteita omasta ympäristöstään, kunnes se on käynyt läpi kaikki mahdolliset tulemat (proft.me). \n",
    "\n",
    "4. Ohjatun oppimisen sovelluskohteet voivat olla myös melko arkisia. Usein kun asioista oppii lisää, huomaa kuinka niihin liittyviä tapahtumia löytyykin omasta ympäristöstä, eikä näitä tapahtumia ole aikaisemmin edes ajatellut. Esimerkkinä tästä on ohjatun oppimisen käyttö siinä, kuinka sähköposti lajittelee tietyt sähköpostiviestit roskapostikansioon. Näinkin arkinen asia, enkä ole aikaisemmin edes ajatellut, että kuinka se todellisuudessa toimii. Tietenkin algoritmien olemassaolo ja käyttö on tuttua, mutta kuten sosiaalisen median piirteet analytiikassa, tätäkään aihetta en ole jostakin syystä sen tarkemmin pohtinut. Proft.me -sivuston artikkelissa kuvataan esimerkiksi kyseisen sähköpostiesimerkin olevan luokittelua, joka on eräs ohjatun oppimisen kategorioista. \n",
    "\n",
    "5. Analyysissä voi sattua erilaisia virheitä. Luennon lopussa nopeasti esiteltiin virhetyyppejä, joita analyysia rakentaessa voi sattua. Näistä esimerkeistä ”cherry picking” on erityisesti itselleni tullut aiemmin tutuksi. ”Kirsikanpoiminta” on toimintatapa, jossa analyysista nostetaan esille ne tulokset, jotka ovat jonkun tietyt halutun lopputuloksen mukaisia. Tällöin datassa jätetään huomiotta muut tiedot, jotka voisivat jopa merkittävästi osoittaa johonkin muuhun tulokseen, sillä tämä tulos ei ole haluttu. Esimerkkinä tästä voisi toimia se, että tutkija haluaa selvittää, onko tietyn tutkimusjoukon suosiossa mieluummin kissat vai koirat. Kerätystä datasta tutkija jättää tarkoituksella huomiotta koiria äänestäviä henkilöitä, sillä hän itse henkilökohtaisesti pitää enemmän kissoista ja haluaa saada myös tämän mukaisen tuloksen. Materiaalissa esitellyistä virhetilanteista erityisen kiinnostava on ”gambler’s fallacy”, sillä se tuntuu olevan melko paljon esillä myös jokapäiväisessä elämässä. Usein puhutaan esimerkiksi siitä, kuinka hyvä tuuri tapahtuu vain kerran, ja tämän jälkeen sen ei uskota tapahtuvan uudelleen. Todellisuudessa kuitenkin tapahtumat todennäköisesti eivät vaikuta toisiinsa ja arpavoiton saaminen toista kertaa on yhtä todennäköistä kuin se oli ensimmäiselläkin kerralla. \n",
    "\n",
    " \n"
   ]
  },
  {
   "cell_type": "markdown",
   "id": "2529612c",
   "metadata": {},
   "source": [
    "### Kehitysideoita luentoviikolle"
   ]
  },
  {
   "cell_type": "markdown",
   "id": "2549dd12",
   "metadata": {},
   "source": [
    "* Oli mukavaa, kuinka luennolla näytettiin myös konkreettista ensimmäistä analyysia. Analyysin koodin tueksi olisin ehkä itse kaivannut enemmän kommentointia, sillä aihe on tosiaankin melko haastava ensikertalaiselle. Toki luennon puhe sekä keskustelu helpottavat seuraamista, mutta lisäämällä kommentteja olisi mielestäni helpompi pysyä kärryillä siitä mitä tapahtuu. \n",
    "\n",
    "* Mielestäni olisi hienoa, jos luentojen alusta käytettäisiin muutama minuutti aiemman kertaamiseen. Tämä olisi toimiva startti luennolle, ja helpottaisi todella paljon ainakin itseäni yhdistämään asioita toisiinsa. Tämän viikon luennon alussa käyty keskustelu big datasta toimi hieman muistutuksena viime viikon asiasta, mutta nopea kertaus olisi mukavaa. Koska uutta asiaa on todella paljon ja aiheet ovat myös osittain hankalia, pienen muutaman minuutin edellisen luentokerran yhteenvetona saisi enemmän selkeyttä sekä myös sidonnaisuutta erillisten luentokertojen välille. "
   ]
  },
  {
   "cell_type": "markdown",
   "id": "79011cbd",
   "metadata": {},
   "source": [
    "Lähteet: \n",
    "\n",
    "Huhtamäki, J. Laaksonen, S. ”Näin laadullinen tieto jalostuu laskennalliseksi: piirteet sosiaalisen median analytiikassa”. 16.10.2017. Rajapinta: \n",
    "\n",
    "https://rajapinta.co/2017/10/16/nain-laadullinen-tieto-jalostuu-laskennalliseksi-piirteet-sosiaalisen-median-analytiikassa/ \n",
    "\n",
    " \n",
    "\n",
    "”Types of machine learning algorithms”. 24.12.2015. proft.me: \n",
    "\n",
    "https://en.proft.me/2015/12/24/types-machine-learning-algorithms/# "
   ]
  },
  {
   "cell_type": "markdown",
   "id": "f09190de",
   "metadata": {},
   "source": [
    "***"
   ]
  },
  {
   "cell_type": "markdown",
   "id": "1d1c1728",
   "metadata": {},
   "source": [
    "## Viikko 4: Harjoitustyö"
   ]
  },
  {
   "cell_type": "markdown",
   "id": "92252592",
   "metadata": {},
   "source": [
    "## Viikko 5: Vierailijaluento"
   ]
  }
 ],
 "metadata": {
  "kernelspec": {
   "display_name": "Python 3 (ipykernel)",
   "language": "python",
   "name": "python3"
  },
  "language_info": {
   "codemirror_mode": {
    "name": "ipython",
    "version": 3
   },
   "file_extension": ".py",
   "mimetype": "text/x-python",
   "name": "python",
   "nbconvert_exporter": "python",
   "pygments_lexer": "ipython3",
   "version": "3.9.7"
  }
 },
 "nbformat": 4,
 "nbformat_minor": 5
}
